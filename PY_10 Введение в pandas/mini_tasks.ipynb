{
 "cells": [
  {
   "cell_type": "markdown",
   "metadata": {},
   "source": [
    "## Тут мини задачки"
   ]
  },
  {
   "cell_type": "code",
   "execution_count": 1,
   "metadata": {},
   "outputs": [
    {
     "name": "stdout",
     "output_type": "stream",
     "text": [
      "      Товар  Цена  Количество       Дата\n",
      "0  Футболка  1000           2 2024-01-01\n",
      "1    Джинсы  2000           1 2024-01-05\n",
      "2  Футболка  1200           3 2024-01-10\n",
      "3    Куртка  2500           1 2024-02-01\n",
      "4    Джинсы  1800           2 2024-02-10\n"
     ]
    }
   ],
   "source": [
    "import pandas as pd\n",
    "\n",
    "# Создаем DataFrame с данными о продажах\n",
    "data = {\n",
    "    'Товар': ['Футболка', 'Джинсы', 'Футболка', 'Куртка', 'Джинсы'],\n",
    "    'Цена': [1000, 2000, 1200, 2500, 1800],\n",
    "    'Количество': [2, 1, 3, 1, 2],\n",
    "    'Дата': ['2024-01-01', '2024-01-05', '2024-01-10', '2024-02-01', '2024-02-10']\n",
    "}\n",
    "\n",
    "df = pd.DataFrame(data)\n",
    "\n",
    "# Преобразуем столбец 'Дата' в формат даты\n",
    "df['Дата'] = pd.to_datetime(df['Дата'])\n",
    "\n",
    "print(df)\n"
   ]
  },
  {
   "cell_type": "code",
   "execution_count": 11,
   "metadata": {},
   "outputs": [
    {
     "name": "stdout",
     "output_type": "stream",
     "text": [
      "ГодМесяц\n",
      "2024-01    2533.333333\n",
      "2024-02    3050.000000\n",
      "Freq: M, Name: Всего, dtype: float64\n"
     ]
    }
   ],
   "source": [
    "df['Всего'] = df['Цена'] * df['Количество']\n",
    "df['ГодМесяц'] = df['Дата'].dt.to_period('M')\n",
    "\n",
    "# Группируем данные по месяцу и году и вычисляем среднюю цену товара\n",
    "average_price_by_month = df.groupby('ГодМесяц')['Всего'].mean()\n",
    "\n",
    "print(average_price_by_month)"
   ]
  }
 ],
 "metadata": {
  "kernelspec": {
   "display_name": "Python 3",
   "language": "python",
   "name": "python3"
  },
  "language_info": {
   "codemirror_mode": {
    "name": "ipython",
    "version": 3
   },
   "file_extension": ".py",
   "mimetype": "text/x-python",
   "name": "python",
   "nbconvert_exporter": "python",
   "pygments_lexer": "ipython3",
   "version": "3.9.6"
  }
 },
 "nbformat": 4,
 "nbformat_minor": 2
}
